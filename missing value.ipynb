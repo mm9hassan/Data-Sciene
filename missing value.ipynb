{
 "cells": [
  {
   "cell_type": "code",
   "execution_count": 1,
   "metadata": {},
   "outputs": [],
   "source": [
    "import pandas as pd\n",
    "import numpy as np\n",
    "from sklearn.linear_model import LinearRegression\n",
    "from sklearn.impute import SimpleImputer,KNNImputer\n",
    "from statsmodels.imputation.mice import MICEData\n",
    "\n",
    "\n"
   ]
  },
  {
   "cell_type": "code",
   "execution_count": 2,
   "metadata": {},
   "outputs": [],
   "source": [
    "def regression_imputation(df,target_col):\n",
    "    # split features col \n",
    "    X=df.drop(target_col,axis=1)\n",
    "    y=df[target_col]\n",
    "    mean_imputer=SimpleImputer(strategy='mean')\n",
    "    X_imputed=mean_imputer.fit_transform(X)\n",
    "\n",
    "    regression_model=LinearRegression().fit(X_imputed,y)\n",
    "\n",
    "    y_imputed=regression_model.predict(X_imputed)\n",
    "    y_imputed=np.where(np.isnan(y),y_imputed,y)\n",
    "    df[target_col]=y_imputed\n",
    "    \n",
    "    return df\n",
    "\n",
    "# multi way imputation\n",
    "\n",
    "    \n",
    "def multi_imputation(df):\n",
    "    mice=MICEData(df)\n",
    "    df_imputed=mice.data.copy()\n",
    "    return df_imputed\n",
    "\n",
    "\n",
    "\n",
    "def impute_knn(df,col):\n",
    "    knn_imputer=KNNImputer(n_neighbors=2)\n",
    "    df[col]=knn_imputer.fit_transform(df[col].values.reshape(-1,1))\n",
    "    return df\n",
    "\n",
    "\n",
    "\n",
    "\n",
    "\n",
    "\n",
    "\n",
    "\n",
    "\n",
    "\n",
    "\n",
    "\n"
   ]
  },
  {
   "cell_type": "code",
   "execution_count": 2,
   "metadata": {},
   "outputs": [],
   "source": []
  },
  {
   "cell_type": "code",
   "execution_count": null,
   "metadata": {},
   "outputs": [],
   "source": []
  }
 ],
 "metadata": {
  "kernelspec": {
   "display_name": "Python 3",
   "language": "python",
   "name": "python3"
  },
  "language_info": {
   "codemirror_mode": {
    "name": "ipython",
    "version": 3
   },
   "file_extension": ".py",
   "mimetype": "text/x-python",
   "name": "python",
   "nbconvert_exporter": "python",
   "pygments_lexer": "ipython3",
   "version": "3.10.6"
  },
  "orig_nbformat": 4,
  "vscode": {
   "interpreter": {
    "hash": "369f2c481f4da34e4445cda3fffd2e751bd1c4d706f27375911949ba6bb62e1c"
   }
  }
 },
 "nbformat": 4,
 "nbformat_minor": 2
}
